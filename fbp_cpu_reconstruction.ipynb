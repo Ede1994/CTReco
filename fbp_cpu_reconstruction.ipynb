{
 "cells": [
  {
   "cell_type": "markdown",
   "id": "dfa45e63",
   "metadata": {},
   "source": [
    "# FBP Reconstruction (CPU-based)\n",
    "This script performs a complete reconstruction workflow.\n",
    "\n",
    "The reconstruction algorithm used is the FBP performed on CPU."
   ]
  },
  {
   "cell_type": "code",
   "execution_count": null,
   "id": "c382cf1e",
   "metadata": {},
   "outputs": [],
   "source": [
    "import numpy as np\n",
    "import neutompy as ntp"
   ]
  },
  {
   "cell_type": "code",
   "execution_count": null,
   "id": "c0ef728b",
   "metadata": {},
   "outputs": [],
   "source": [
    "# set pixel size in cm\n",
    "pixel_size  = 0.0029\n",
    "\n",
    "# set the last angle value of the CT scan: np.pi or 2*np.pi\n",
    "last_angle = 2*np.pi"
   ]
  },
  {
   "cell_type": "code",
   "execution_count": null,
   "id": "c8424253",
   "metadata": {},
   "outputs": [],
   "source": [
    "# read dataset containg projection, dark-field, flat-field images and the projection at 180 degree\n",
    "proj, dark, flat, proj_180 = ntp.read_dataset()\n",
    "\n",
    "# normalize the projections to dark-field, flat-field images and neutron dose\n",
    "norm, norm_180 = ntp.normalize_proj(proj, dark, flat, proj_180=proj_180, dose_draw=True, crop_draw=True)\n",
    "\n",
    "# rotation axis tilt correction\n",
    "norm = ntp.correction_COR(norm, norm[0], norm_180)\n",
    "\n",
    "# clean up memory\n",
    "del dark; del flat; del proj; del proj_180\n",
    "\n",
    "# remove outliers, set the optimal radius and threshold\n",
    "norm = ntp.remove_outliers_stack(norm, radius=1, threshold=0.018, outliers='dark', out=norm)\n",
    "norm = ntp.remove_outliers_stack(norm, radius=3, threshold=0.018, outliers='bright', out=norm)\n",
    "\n",
    "# perform minus-log transform\n",
    "norm =  ntp.log_transform(norm, out=norm)\n",
    "\n",
    "# remove stripes in sinograms\n",
    "norm = ntp.remove_stripe_stack(norm, level=4, wname='db30', sigma=1.5, out=norm)\n",
    "\n",
    "# define the array of the angle views in radians\n",
    "angles = np.linspace(0, last_angle, norm.shape[0], endpoint=False)\n",
    "\n",
    "# FBP reconstruction using CPU\n",
    "print('> Reconstruction...')\n",
    "rec    = ntp.reconstruct(norm, angles, 'FBP', pixel_size=pixel_size)\n",
    "\n",
    "# select the directory and the prefix file name of the reconstructed images to save.\n",
    "recon_dir = ntp.save_filename_gui('', message = 'Select the folder and the prefix name for the reconstructed images...')\n",
    "\n",
    "# write the reconstructed images to disk\n",
    "ntp.write_tiff_stack(recon_dir, rec)"
   ]
  }
 ],
 "metadata": {
  "kernelspec": {
   "display_name": "ntp_env",
   "language": "python",
   "name": "ntp_env"
  },
  "language_info": {
   "codemirror_mode": {
    "name": "ipython",
    "version": 3
   },
   "file_extension": ".py",
   "mimetype": "text/x-python",
   "name": "python",
   "nbconvert_exporter": "python",
   "pygments_lexer": "ipython3",
   "version": "3.6.13"
  }
 },
 "nbformat": 4,
 "nbformat_minor": 5
}
